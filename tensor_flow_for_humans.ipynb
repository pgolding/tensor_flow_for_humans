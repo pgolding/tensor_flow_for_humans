{
 "cells": [
  {
   "cell_type": "markdown",
   "metadata": {},
   "source": [
    "# TensorFlow Quick Intro (for Humans)\n",
    "\n",
    "In TF, data exists as tensors. These are computationally-optimized data types that represent matrices (or vectors).\n",
    "\n",
    "TF doesn't run your program like a standard Python program.\n",
    "\n",
    "It builds and then runs a mathematical representation, or **graph**. \n",
    "\n",
    "This is because, beneath the hood, TF is going to do the maths using an optimized engine that can map the calculations efficiently to a set of processors (e.g. GPU/TPU cores) running in parallel if possible (likely). \n",
    "\n",
    "In order to distribute the calculation across a set of processor nodes, TF needs a way to understand the topology of the calculation to begin with, hence the way that TF dictates a style of programming that declares the graph before running it.\n",
    "\n",
    "Therefore, TF runs the graph calculation within a Session().\n",
    "\n",
    "The following is a trivial example:"
   ]
  },
  {
   "cell_type": "code",
   "execution_count": 1,
   "metadata": {},
   "outputs": [
    {
     "name": "stdout",
     "output_type": "stream",
     "text": [
      "b'This is TensorFlow!'\n"
     ]
    }
   ],
   "source": [
    "import tensorflow as tf\n",
    "\n",
    "# Declare TensorFlow object called tensor\n",
    "some_constant = tf.constant('This is TensorFlow!')\n",
    "\n",
    "with tf.Session() as sess:\n",
    "    # Run the tf.constant operation in the session\n",
    "    output = sess.run(some_constant)\n",
    "    print(output)"
   ]
  },
  {
   "cell_type": "markdown",
   "metadata": {},
   "source": [
    "Now, to feed it actual data, versus constants (which still might be useful), we need to create inputs to the graph. These are like ports where we can inject data over time, keeping in mind that for a neural network to be useful, we are going to stream data into it (from a large data source, most likely).\n",
    "\n",
    "We need to be ready to stream data into TF and so we define inputs rather than input variables per se.\n",
    "\n",
    "In Python we do this:\n",
    "\n",
    "`x = some_data`\n",
    "\n",
    "In TF, we don't set the data, but rather the shape (and type) of the data. We do this using placeholders."
   ]
  },
  {
   "cell_type": "code",
   "execution_count": 2,
   "metadata": {},
   "outputs": [
    {
     "name": "stdout",
     "output_type": "stream",
     "text": [
      "Test String\n"
     ]
    }
   ],
   "source": [
    "# Some example placeholders - i.e. inputs for our graph\n",
    "x = tf.placeholder(tf.string)\n",
    "y = tf.placeholder(tf.int32)\n",
    "z = tf.placeholder(tf.float32)\n",
    "\n",
    "with tf.Session() as sess:\n",
    "    output = sess.run(x,feed_dict={x: 'Test String', y: 123, z: 45.67})\n",
    "print(output)"
   ]
  },
  {
   "cell_type": "markdown",
   "metadata": {},
   "source": [
    "Wait, what?\n",
    "\n",
    "What was that `feed_dict` thing?\n",
    "\n",
    "That was us feeding some data to our placeholders.\n",
    "\n",
    "This `sess.run` is asking TF to give us the output of a node (`x`) in our graph. In this case, we are asking for the output of the node `x`. \n",
    "\n",
    "Clearly, we don't need the other inputs to compute `x` so they are redundant, but illustrative for this trivial example.\n",
    "\n",
    "We could do something like:"
   ]
  },
  {
   "cell_type": "code",
   "execution_count": 3,
   "metadata": {},
   "outputs": [
    {
     "name": "stdout",
     "output_type": "stream",
     "text": [
      "4\n"
     ]
    }
   ],
   "source": [
    "# Some example placeholders - i.e. inputs for our graph\n",
    "a = tf.placeholder(tf.int32)\n",
    "b = tf.placeholder(tf.int32)\n",
    "c = a + b\n",
    "\n",
    "with tf.Session() as sess:\n",
    "    output = sess.run(c,feed_dict={a: 2, b:2})\n",
    "print(output)"
   ]
  },
  {
   "cell_type": "markdown",
   "metadata": {},
   "source": [
    "And, of course, the beauty of TF is that it can handle vectors (of any dimension):"
   ]
  },
  {
   "cell_type": "code",
   "execution_count": 4,
   "metadata": {},
   "outputs": [
    {
     "name": "stdout",
     "output_type": "stream",
     "text": [
      "[2 2 2 2]\n"
     ]
    }
   ],
   "source": [
    "with tf.Session() as sess:\n",
    "    output = sess.run(c,feed_dict={a: [1,1,1,1], b:[1,1,1,1]})\n",
    "print(output)"
   ]
  },
  {
   "cell_type": "markdown",
   "metadata": {},
   "source": [
    "The `+` here is a scalar addition happening \"bit-wise\" across the array. For a truly multi-dimensional array addition, we need to use `tf.add`, which we do here for a 4x2 array addition."
   ]
  },
  {
   "cell_type": "code",
   "execution_count": 5,
   "metadata": {},
   "outputs": [
    {
     "name": "stdout",
     "output_type": "stream",
     "text": [
      "[[2 2 2 2]\n",
      " [2 2 2 2]]\n"
     ]
    }
   ],
   "source": [
    "c = tf.add(a,b)\n",
    "with tf.Session() as sess:\n",
    "    output = sess.run(c,feed_dict={a: [[1,1,1,1],[1,1,1,1]], b:[[1,1,1,1],[1,1,1,1]]})\n",
    "print(output)"
   ]
  },
  {
   "cell_type": "markdown",
   "metadata": {},
   "source": [
    "Of course, this isn't that useful if we have to write the values in our code.\n",
    "\n",
    "Ideally, we want to stream data into the inputs."
   ]
  },
  {
   "cell_type": "code",
   "execution_count": 6,
   "metadata": {},
   "outputs": [],
   "source": [
    "some_data = [\n",
    "    [1, 1,],\n",
    "    [2, 2,],\n",
    "    [3, 3,],\n",
    "    [4, 4,],\n",
    "]\n",
    "slices = tf.data.Dataset.from_tensor_slices(some_data)\n",
    "next_slice = slices.make_one_shot_iterator().get_next()"
   ]
  },
  {
   "cell_type": "code",
   "execution_count": 7,
   "metadata": {},
   "outputs": [
    {
     "name": "stdout",
     "output_type": "stream",
     "text": [
      "[2 2]\n",
      "[4 4]\n",
      "[6 6]\n",
      "[8 8]\n"
     ]
    }
   ],
   "source": [
    "with tf.Session() as sess:\n",
    "    while True:\n",
    "      try:\n",
    "        val = sess.run(next_slice)\n",
    "        print(sess.run(c,feed_dict={a: val, b:val}))\n",
    "      except tf.errors.OutOfRangeError:\n",
    "        break"
   ]
  },
  {
   "cell_type": "markdown",
   "metadata": {},
   "source": [
    "# Neural Layers\n",
    "\n",
    "Thus far we've shown how we can setup inputs to a graph and feed data into them, including from a \"stream\".\n",
    "\n",
    "Of course, for this to be useful for a neural network, we need to feed data into a layer and do something useful.\n",
    "\n",
    "The most common operation in neural networks is calculating the linear combination of inputs, weights, and biases. As a reminder, we can write the output of the linear operation as\n",
    "\n",
    "![](linear-equation.gif)\n",
    "\n",
    "Here, $\\textbf{W}$ is a matrix of the weights connecting two layers. The output $\\textbf{y}$, the input $\\textbf{x}$, and the biases $\\textbf{b}$ are all vectors.\n",
    "\n",
    "Firstly, let's implement this ourselves using graph math."
   ]
  },
  {
   "cell_type": "code",
   "execution_count": 8,
   "metadata": {},
   "outputs": [],
   "source": [
    "x = tf.placeholder(tf.float32)\n",
    "w = tf.placeholder(tf.float32)\n",
    "b = tf.placeholder(tf.float32)\n",
    "y = tf.add(tf.matmul(x, w), b)"
   ]
  },
  {
   "cell_type": "markdown",
   "metadata": {},
   "source": [
    "Note that we had to use `tf.matmul()` here because we are multiplying matrices, not scalars.\n",
    "\n",
    "Now let's run this, but set our weights to 1s and our bias to 0."
   ]
  },
  {
   "cell_type": "code",
   "execution_count": 9,
   "metadata": {},
   "outputs": [
    {
     "data": {
      "text/plain": [
       "array([[2.],\n",
       "       [4.],\n",
       "       [6.],\n",
       "       [8.]], dtype=float32)"
      ]
     },
     "execution_count": 9,
     "metadata": {},
     "output_type": "execute_result"
    }
   ],
   "source": [
    "with tf.Session() as sess:\n",
    "    init = tf.global_variables_initializer()\n",
    "    sess.run(init)\n",
    "    sess.run(y, feed_dict={x:some_data, w:[[1],[1]],b:[[0]]})"
   ]
  },
  {
   "cell_type": "markdown",
   "metadata": {},
   "source": [
    "This is as expected.\n",
    "\n",
    "We are multiplying each input by 1 and adding 0.\n",
    "\n",
    "* `1*1 + 1*1 + 0 = 2`\n",
    "* `2*1 + 2*1 + 0 = 4`\n",
    "* `3*1 + 3*1 + 0 = 6`\n",
    "* `4*1 + 4*1 + 0 = 8`\n",
    "\n",
    "However, if we want to train our layer to give us a desired result (whatever that is going to be) then we need our weights and biases to be variables that we can updae on each iteration during training.\n",
    "\n",
    "Therefore, we use a different approach to initialize these variables using the `tf.Variable` method."
   ]
  },
  {
   "cell_type": "code",
   "execution_count": 10,
   "metadata": {},
   "outputs": [
    {
     "data": {
      "text/plain": [
       "array([[2.],\n",
       "       [4.],\n",
       "       [6.],\n",
       "       [8.]], dtype=float32)"
      ]
     },
     "execution_count": 10,
     "metadata": {},
     "output_type": "execute_result"
    }
   ],
   "source": [
    "w = tf.Variable(tf.ones((2, 1)))\n",
    "b = tf.Variable(tf.zeros(1))\n",
    "y = tf.add(tf.matmul(x, w), b)\n",
    "\n",
    "with tf.Session() as sess:\n",
    "    init = tf.global_variables_initializer()\n",
    "    sess.run(init)\n",
    "    sess.run(y, feed_dict={x:some_data})"
   ]
  },
  {
   "cell_type": "markdown",
   "metadata": {},
   "source": [
    "Furthermore, we don't know what the weights should be and so we need to initialize them to some values.\n",
    "\n",
    "For now, we will follow the heuristic that often works fine with training, which is to set the weights to some random (normalized) values and set the biases to all 0s. We are setting `seed=1` to control the random number generator so that we can get repeatable results later."
   ]
  },
  {
   "cell_type": "code",
   "execution_count": 11,
   "metadata": {},
   "outputs": [
    {
     "name": "stdout",
     "output_type": "stream",
     "text": [
      "[[0.67328054]\n",
      " [1.3465611 ]\n",
      " [2.0198417 ]\n",
      " [2.6931221 ]]\n"
     ]
    }
   ],
   "source": [
    "w = tf.Variable(tf.truncated_normal((2, 1),seed=1))\n",
    "b = tf.Variable(tf.zeros(1))\n",
    "y = tf.add(tf.matmul(x, w), b)\n",
    "\n",
    "with tf.Session() as sess:\n",
    "    init = tf.global_variables_initializer()\n",
    "    sess.run(init)\n",
    "    output = sess.run(y, feed_dict={x:some_data})\n",
    "    print(output)"
   ]
  },
  {
   "cell_type": "markdown",
   "metadata": {},
   "source": [
    "## Using the Dense model\n",
    "\n",
    "Our desire to use a linear model of the type $\\textbf{y = Wx + b}$ is common enough that TF has a built-in graph primitive called `Dense`. It is a layer of perceptrons.\n",
    "\n",
    "Here we declare our model by declaring a `layer` of type `Dense`.\n",
    "\n",
    "We set `units=1` for our single output and here we override the default weights (usually random) so that we achieve the same function as before.\n"
   ]
  },
  {
   "cell_type": "code",
   "execution_count": 12,
   "metadata": {},
   "outputs": [
    {
     "name": "stdout",
     "output_type": "stream",
     "text": [
      "[[0.67328054]\n",
      " [1.3465611 ]\n",
      " [2.0198417 ]\n",
      " [2.6931221 ]]\n"
     ]
    }
   ],
   "source": [
    "x = tf.placeholder(tf.float32, shape=[None, 2])\n",
    "linear_model = tf.layers.Dense(units=1,kernel_initializer=tf.truncated_normal_initializer(seed=1))\n",
    "y_dense = linear_model(x)\n",
    "\n",
    "init = tf.global_variables_initializer()\n",
    "with tf.Session() as sess:\n",
    "    sess.run(init)\n",
    "    dense_output = sess.run(y_dense, {x: some_data})\n",
    "    print(dense_output)"
   ]
  },
  {
   "cell_type": "code",
   "execution_count": 13,
   "metadata": {},
   "outputs": [
    {
     "data": {
      "text/plain": [
       "array([[ True],\n",
       "       [ True],\n",
       "       [ True],\n",
       "       [ True]])"
      ]
     },
     "execution_count": 13,
     "metadata": {},
     "output_type": "execute_result"
    }
   ],
   "source": [
    "# were the two approaches the same?\n",
    "dense_output == output"
   ]
  },
  {
   "cell_type": "markdown",
   "metadata": {},
   "source": [
    "What we haven't mentioned yet is the function `global_variables_initializer()`\n",
    "\n",
    "This is to initialize the variables (i.e. weights and biases) before we can run the graph. Otherwise the weights and biases will be uninitialized (unset) and so the graph session will crash.\n",
    "\n",
    "Note that for initializing variables, there are a number of [initializers](https://www.tensorflow.org/api_docs/python/tf/initializers) that we could use."
   ]
  },
  {
   "cell_type": "markdown",
   "metadata": {},
   "source": [
    "# Training\n",
    "\n",
    "Now let's try our hand at a simple neural network with some training data.\n",
    "\n",
    "Now we will attempt to build a classifier using TF.\n",
    "\n",
    "To make things easy to understand and follow, I wrote a small [script](generate_shapes.ipynb) to produce some basic 28x28 pixel shapes, either cirles or squares. They are differing sizes and not fully formed - i.e. pixelated (mostly by image reduction). This will allow you play around with shape manipulation (e.g. try rotating or distoring the shapes) to see how well your network performs with noiser or cleaner data. The default data here is pretty clean.\n",
    "\n",
    "I have also resized everything to the \"canonical\" 28x28 that is commonly used for MNIST and similar datasets so that you are already mentally attuned to how the sizing of features (for those kinds of 2D images) works.\n",
    "\n",
    "The data is already prepared ready for TF. This means that each shape has been converted to a 784 Numpy array where the pixel values range from 0.1 to 0.9 (i.e. have been normalized). Moreover, I have also used the `LabelBinarizer`\n",
    "and `train_test_split` from `sklearn` to one-hot encode the labels and create the required training, validation and test data sets.\n",
    "\n",
    "But so we understand what's going on, let's look at a simple `Dense` layer to process one image.\n",
    "\n",
    "We are going to present each image as an example to the graph. To do that, we present **all 784 pixels at once**. Therefore, we immediately know that we need 784 inputs.\n",
    "\n",
    "Because our shapes are either circles or squares, we want to train the graph to recognize the presence of either one of these, which means we need two outputs.\n",
    "\n",
    "Let's load the data first, which was saved as a pickle file:"
   ]
  },
  {
   "cell_type": "code",
   "execution_count": 14,
   "metadata": {},
   "outputs": [],
   "source": [
    "%matplotlib inline\n",
    "import pickle\n",
    "import math\n",
    "\n",
    "import numpy as np\n",
    "#import tensorflow as tf\n",
    "from tqdm import tqdm\n",
    "import matplotlib.pyplot as plt\n",
    "\n",
    "pickle_file = 'shape_data.pickle'\n",
    "with open(pickle_file, 'rb') as f:\n",
    "  pickle_data = pickle.load(f)\n",
    "  train_features = pickle_data['train_dataset']\n",
    "  train_labels = pickle_data['train_labels']\n",
    "  valid_features = pickle_data['valid_dataset']\n",
    "  valid_labels = pickle_data['valid_labels']\n",
    "  test_features = pickle_data['test_dataset']\n",
    "  test_labels = pickle_data['test_labels']\n",
    "  del pickle_data  # Free up memory\n",
    "    \n",
    "\n",
    "# Make sure the TF graph is reset so we can inspect it later\n",
    "tf.reset_default_graph()"
   ]
  },
  {
   "cell_type": "markdown",
   "metadata": {},
   "source": [
    "Now let's look at a random selection of shapes to see what we're dealing with:"
   ]
  },
  {
   "cell_type": "code",
   "execution_count": 15,
   "metadata": {},
   "outputs": [
    {
     "data": {
      "text/plain": [
       "<matplotlib.image.AxesImage at 0x122f96b00>"
      ]
     },
     "execution_count": 15,
     "metadata": {},
     "output_type": "execute_result"
    },
    {
     "data": {
      "text/plain": [
       "<matplotlib.image.AxesImage at 0x122fc2ef0>"
      ]
     },
     "execution_count": 15,
     "metadata": {},
     "output_type": "execute_result"
    },
    {
     "data": {
      "text/plain": [
       "<matplotlib.image.AxesImage at 0x122fed278>"
      ]
     },
     "execution_count": 15,
     "metadata": {},
     "output_type": "execute_result"
    },
    {
     "data": {
      "text/plain": [
       "<matplotlib.image.AxesImage at 0x122ff3470>"
      ]
     },
     "execution_count": 15,
     "metadata": {},
     "output_type": "execute_result"
    },
    {
     "data": {
      "text/plain": [
       "<matplotlib.image.AxesImage at 0x123034160>"
      ]
     },
     "execution_count": 15,
     "metadata": {},
     "output_type": "execute_result"
    },
    {
     "data": {
      "image/png": "[encoded data removed]",
      "text/plain": [
       "<matplotlib.figure.Figure at 0x11da40518>"
      ]
     },
     "metadata": {},
     "output_type": "display_data"
    }
   ],
   "source": [
    "import random\n",
    "fig = plt.figure(figsize=(20,20))\n",
    "for i in range(1,6):\n",
    "    ax = fig.add_subplot(1, 6, i, xticks=[], yticks=[])\n",
    "    ax.imshow(np.reshape(train_features[random.randint(0,10000)],(28,28)), cmap='gray')\n",
    "#ax = fig.add_subplot(1, 6, 2, xticks=[], yticks=[])\n",
    "#ax.imshow(np.reshape(train_features[random.randint(0,10000)],(28,28)), cmap='gray')"
   ]
  },
  {
   "cell_type": "markdown",
   "metadata": {},
   "source": [
    "Notice that the squares are very well defined and the circles less so, but clearly they are very distinct. One can almost imagine how certain input patterns (like long run-lengths of black pixels) should create a higher probability of a `square==1` but we aren't really too interested in how it works for now (but this might be more interesting to inspect if trying out a Convolutional Neural Network later).\n",
    "\n",
    "Now let's set up a trivial dense layer with our 784 inputs and 2 outputs.\n",
    "\n",
    "We will set the weights to be 1s and leave the default biases as 0s. Without attempting to change these yet, this means we expect the layer to act as a simple accumulator (or adder) for the inputs. Both outputs will be identical.\n",
    "\n",
    "Let's check:"
   ]
  },
  {
   "cell_type": "code",
   "execution_count": 16,
   "metadata": {},
   "outputs": [
    {
     "name": "stdout",
     "output_type": "stream",
     "text": [
      "[[738.8 738.8]]\n"
     ]
    }
   ],
   "source": [
    "input_shape = tf.placeholder(tf.float32, shape=[None, 784])\n",
    "shape_classifier = tf.layers.Dense(units=2,kernel_initializer=tf.ones_initializer())\n",
    "y_shape = shape_classifier(input_shape)\n",
    "\n",
    "init = tf.global_variables_initializer()\n",
    "with tf.Session() as sess:\n",
    "    sess.run(init)\n",
    "    shape_output = sess.run(y_shape, {input_shape: [train_features[0]]})\n",
    "    print(shape_output)"
   ]
  },
  {
   "cell_type": "markdown",
   "metadata": {},
   "source": [
    "If we sum the values of the input shape pixel values, they should add up to the same number:"
   ]
  },
  {
   "cell_type": "code",
   "execution_count": 17,
   "metadata": {},
   "outputs": [
    {
     "data": {
      "text/plain": [
       "738.8"
      ]
     },
     "execution_count": 17,
     "metadata": {},
     "output_type": "execute_result"
    }
   ],
   "source": [
    "np.sum(train_features[0])"
   ]
  },
  {
   "cell_type": "markdown",
   "metadata": {},
   "source": [
    "Of course, we don't want the outputs to be merely the sum of the pixels. It is pretty obvious that this won't tell us anything much about the shape, except perhaps how much of the image has darker pixels (which would be a lower sum).\n",
    "\n",
    "First of all, let's get the output looking something like it's trying to predict the probability of either a circle or a square. To do that, we will use a softmax output.\n",
    "\n",
    "This looks at the values and adjusts them so they are similarly proportioned, except all add up to 1. Therefore the output of each is a kind of probability."
   ]
  },
  {
   "cell_type": "code",
   "execution_count": 18,
   "metadata": {},
   "outputs": [
    {
     "name": "stdout",
     "output_type": "stream",
     "text": [
      "[[0.5 0.5]]\n"
     ]
    }
   ],
   "source": [
    "# define our graph\n",
    "tf.reset_default_graph()\n",
    "\n",
    "input_shape = tf.placeholder(tf.float32, shape=[None, 784])\n",
    "shape_classifier = tf.layers.Dense(units=2,kernel_initializer=tf.ones_initializer())\n",
    "y_shape = shape_classifier(input_shape)\n",
    "softmax = tf.nn.softmax(y_shape)\n",
    "\n",
    "#initialize our graph\n",
    "init = tf.global_variables_initializer()\n",
    "# run our graph\n",
    "with tf.Session() as sess:\n",
    "    sess.run(init)\n",
    "    shape_output = sess.run(softmax, {input_shape: [train_features[0]]})\n",
    "    print(shape_output)\n"
   ]
  },
  {
   "cell_type": "markdown",
   "metadata": {},
   "source": [
    "For the way we've currently set up the graph, these answers are correct - i.e. there's a 50/50 chance of it being either shape. This is meaningless of course because both graphs are the same."
   ]
  },
  {
   "cell_type": "code",
   "execution_count": 19,
   "metadata": {},
   "outputs": [],
   "source": [
    "# reset our graph\n",
    "tf.reset_default_graph()\n",
    "\n",
    "# Set the number of features - i.e. the pixels in each input shape\n",
    "features_count = 784\n",
    "# How many classes? Two shapes...\n",
    "classes_count = 2\n",
    "\n",
    "# Now set up our placeholder for the input shape (features)\n",
    "input_shape = tf.placeholder(tf.float32, shape=[None, 784])\n",
    "\n",
    "# And now for the one-hot encoded labels\n",
    "labels = tf.placeholder(tf.float32)\n",
    "\n",
    "# Now set up our layer of neurons (perceptrons)\n",
    "# We only need two units for the two type of shape (one-hot encoded)\n",
    "softmax = tf.layers.dense(input_shape, units=2,activation=tf.nn.softmax)"
   ]
  },
  {
   "cell_type": "markdown",
   "metadata": {},
   "source": [
    "Note that this time we told TF to set the layer's activation function to be `tf.nn.softmax` which is a callable function that performs the softmax distribution on the outputs for us. It just means we can skip the separate step that we had above.\n",
    "\n",
    "## Figuring out the Error (or Loss)\n",
    "\n",
    "The cross-entropy of a neural network is fancy name for a measure of how well it's classifying. \n",
    "In layman's terms, it's the product of all the `softmax` probabilities that the network predicts weighted by the actual values (`labels`) to reward correct predictions and punish bad ones. \n",
    "\n",
    "For computational efficiency (mostly precision), we want to avoid products and use summation. We can do this by taking the logs of the probabilities and then summing the logs.\n",
    "\n",
    "Fortunately, this function is easy to compute with TF using [`reduce_sum`](https://www.tensorflow.org/api_docs/python/tf/reduce_sum) which sums across all the input tensor elements.\n",
    "\n",
    "Of course, we then want to know the average (mean) of the sums so that we can see overall how well our graph is doing. We can call this the `loss`."
   ]
  },
  {
   "cell_type": "code",
   "execution_count": 20,
   "metadata": {},
   "outputs": [],
   "source": [
    "# Cross entropy\n",
    "cross_entropy = -tf.reduce_sum(labels * tf.log(softmax), axis=1)\n",
    "\n",
    "# Training loss\n",
    "loss = tf.reduce_mean(cross_entropy)"
   ]
  },
  {
   "cell_type": "markdown",
   "metadata": {},
   "source": [
    "## Preparing to Measure Accuracy\n",
    "\n",
    "Once we set our graph in motion by streaming the inputs in a `Session.run()` we want to keep track of how well it's performing. The loss is one measure of course, but is a metric and not the accuracy per se. \n",
    "\n",
    "For the accuracy, we will want to first see if our prediction was correct.\n",
    "\n",
    "We can't simply use a python test like `softmax == label` because we are dealing with tensors (i.e. vectors) and what we want to know is whether the highest probability output (in this case of the two possible outputs) aligns with the `1` in the softmax vector.\n",
    "\n",
    "To do this, we could see which of the softmax outputs is the highest, as this gives us the graph's prediction and then which of the label's values is the highest. If these align (i.e. the maximums) then we can say that the prediction is correct.\n",
    "\n",
    "In other words, say softmax is `[0.1, 0.9]`, then the max value is at `index=1` in the tensor.\n",
    "\n",
    "Now let's say that the label is `[0.0, 1.0]` then we see that the max is also at `index=1` (or aligned in terms of one-hot encoding) and so we can say that this is a correct prediction.\n",
    "\n",
    "TF gives us a function called [`argmax`](https://www.tensorflow.org/api_docs/python/tf/arg_max) to calculate which of the indexes has the maxium value. We then calculate if they are aligned - i.e. equal.\n",
    "\n",
    "We then want to add up all the right answers and divide by the total number of predictions to get a running average. We can't just compute an average of the prediction test (`tf.equal`) because the answer is `boolean`. We therefore convert this to a floating point value using `tf.cast`\n",
    "\n",
    "Don't forget that this code below is **not** going to run now. It is merely setting up part of the graph. So long as we feed it with the correct data streams (`softmax, labels`) during a session, it will compute the accuracy for us."
   ]
  },
  {
   "cell_type": "code",
   "execution_count": 21,
   "metadata": {},
   "outputs": [],
   "source": [
    "# # Determine if the predictions are correct\n",
    "is_correct = tf.equal(tf.argmax(softmax, 1), tf.argmax(labels, 1))\n",
    "# # Calculate the accuracy of the predictions\n",
    "accuracy = tf.reduce_mean(tf.cast(is_correct, tf.float32))"
   ]
  },
  {
   "cell_type": "markdown",
   "metadata": {},
   "source": [
    "Before we start to build our trainable graph, we need to understand a few things about TF. \n",
    "\n",
    "It makes some assumptions. One of them is that the `Dense` layer has two tensors that are variables and therefore trainable. We can inspect [trainable tensors](https://www.tensorflow.org/api_docs/python/tf/trainable_variables) as follows:"
   ]
  },
  {
   "cell_type": "code",
   "execution_count": 22,
   "metadata": {},
   "outputs": [
    {
     "data": {
      "text/plain": [
       "[<tf.Variable 'dense/kernel:0' shape=(784, 2) dtype=float32_ref>,\n",
       " <tf.Variable 'dense/bias:0' shape=(2,) dtype=float32_ref>]"
      ]
     },
     "execution_count": 22,
     "metadata": {},
     "output_type": "execute_result"
    }
   ],
   "source": [
    "tf.trainable_variables()"
   ]
  },
  {
   "cell_type": "markdown",
   "metadata": {},
   "source": [
    "## Back Propagation\n",
    "\n",
    "This is what we expect because we can see that these tensors are the kernel (i.e. weights) and biases for our `Dense` layer. We can see here that without us doing anything, TF has already assigned a tensor for the weights (`kernel`) and a tensor for the biases (`bias`).\n",
    "\n",
    "This is important because now we are getting to the crux of the graph, which is the ability for it to learn.\n",
    "\n",
    "How is this going to happen?\n",
    "\n",
    "As you hopefully know, the learning is a process of tweaking the weights and biases until a set is found that minimizes the overall error, or what we have called `loss` above.\n",
    "\n",
    "In this example, we will use Mini-Batch Gradient Descent to try and find a minimum for `loss` as a function of the weights and biases. This is done by calculating the gradient of that function and then adjusting the weights in the direction of downward slope (hopefully towards a minimum) for each batch of training shapes. The optimization is via the process of back propagation.\n",
    "\n",
    "Rather beautifully, TF can do all this for us so that we don't have to figure out how to differentiate the activation function and so on. We simply set up a training optimizer.\n",
    "\n",
    "How fast we attempt to climb down the slope is set by the step size, or what we call the `learning rate`, so we have to set this value. Of course, there is no way of knowing in advance what to set it to, so we will take a guess initially. But you will notice by playing with it that the rate can dramatically affect the results, including getting no useful results at all (due to overshoot)."
   ]
  },
  {
   "cell_type": "code",
   "execution_count": 23,
   "metadata": {},
   "outputs": [],
   "source": [
    "# play around with this later to see what it does\n",
    "learning_rate = 0.05\n",
    "optimizer = tf.train.GradientDescentOptimizer(learning_rate).minimize(loss)"
   ]
  },
  {
   "cell_type": "markdown",
   "metadata": {},
   "source": [
    "# Running the Training\n",
    "\n",
    "To train our network, we need to repeatedly feed the training vectors into the graph and run backprop to calculate the new weights using the Stochastic Gradient Descent optimizer.\n",
    "\n"
   ]
  },
  {
   "cell_type": "code",
   "execution_count": 24,
   "metadata": {},
   "outputs": [
    {
     "name": "stdout",
     "output_type": "stream",
     "text": [
      "95000 training samples; 743 batches of size:128\n"
     ]
    }
   ],
   "source": [
    "#initialize our graph - i.e. set up the Dense layer (e.g. the weights/biases)\n",
    "init = tf.global_variables_initializer()\n",
    "\n",
    "# Feed dicts for training, validation, and test session\n",
    "train_feed_dict = {input_shape: train_features, labels: train_labels}\n",
    "valid_feed_dict = {input_shape: valid_features, labels: valid_labels}\n",
    "test_feed_dict = {input_shape: test_features, labels: test_labels}\n",
    "\n",
    "# How many samples we feed through the graph before we update the model\n",
    "# Pay with this value later\n",
    "batch_size = 128\n",
    "# How many times we will train the network (and see how that improves our model)\n",
    "# Pay with this value later\n",
    "n_epochs = 4 \n",
    "\n",
    "# The validation accuracy - i.e. how well do our validation samples do during training, per epoch\n",
    "validation_accuracy = 0.0\n",
    "\n",
    "# Measurements use for graphing loss and accuracy\n",
    "batch_logging_sizes = 64\n",
    "batches = []\n",
    "loss_batch = []\n",
    "train_acc_batch = []\n",
    "valid_acc_batch = []\n",
    "\n",
    "batch_count = int(math.ceil(len(train_features)/batch_size))\n",
    "print('{} training samples; {} batches of size:{}'.format(len(train_features),batch_count,batch_size))"
   ]
  },
  {
   "cell_type": "code",
   "execution_count": 25,
   "metadata": {},
   "outputs": [
    {
     "name": "stderr",
     "output_type": "stream",
     "text": [
      "Epoch 1/4 with validation accuracy 0.0: 100%|██████████| 743/743 [00:02<00:00, 356.97batches/s]\n",
      "Epoch 2/4 with validation accuracy 0.8849999904632568: 100%|██████████| 743/743 [00:02<00:00, 359.22batches/s]\n",
      "Epoch 3/4 with validation accuracy 1.0: 100%|██████████| 743/743 [00:02<00:00, 361.27batches/s]\n",
      "Epoch 4/4 with validation accuracy 1.0: 100%|██████████| 743/743 [00:02<00:00, 352.82batches/s]\n"
     ]
    },
    {
     "data": {
      "text/plain": [
       "Text(0.5,1,'Loss')"
      ]
     },
     "execution_count": 25,
     "metadata": {},
     "output_type": "execute_result"
    },
    {
     "data": {
      "text/plain": [
       "[<matplotlib.lines.Line2D at 0x1231908d0>]"
      ]
     },
     "execution_count": 25,
     "metadata": {},
     "output_type": "execute_result"
    },
    {
     "data": {
      "text/plain": [
       "(64, 3072)"
      ]
     },
     "execution_count": 25,
     "metadata": {},
     "output_type": "execute_result"
    },
    {
     "data": {
      "text/plain": [
       "Text(0.5,1,'Accuracy')"
      ]
     },
     "execution_count": 25,
     "metadata": {},
     "output_type": "execute_result"
    },
    {
     "data": {
      "text/plain": [
       "[<matplotlib.lines.Line2D at 0x1231b9ef0>]"
      ]
     },
     "execution_count": 25,
     "metadata": {},
     "output_type": "execute_result"
    },
    {
     "data": {
      "text/plain": [
       "[<matplotlib.lines.Line2D at 0x123190908>]"
      ]
     },
     "execution_count": 25,
     "metadata": {},
     "output_type": "execute_result"
    },
    {
     "data": {
      "text/plain": [
       "(0, 1.0)"
      ]
     },
     "execution_count": 25,
     "metadata": {},
     "output_type": "execute_result"
    },
    {
     "data": {
      "text/plain": [
       "(64, 3072)"
      ]
     },
     "execution_count": 25,
     "metadata": {},
     "output_type": "execute_result"
    },
    {
     "data": {
      "text/plain": [
       "<matplotlib.legend.Legend at 0x1231cdba8>"
      ]
     },
     "execution_count": 25,
     "metadata": {},
     "output_type": "execute_result"
    },
    {
     "data": {
      "image/png": "[encoded data removed]",
      "text/plain": [
       "<matplotlib.figure.Figure at 0x123160b70>"
      ]
     },
     "metadata": {},
     "output_type": "display_data"
    }
   ],
   "source": [
    "with tf.Session() as session:\n",
    "    session.run(init)\n",
    "    # figure out how many training vectors we need per batch\n",
    "    # Do some rounding to an integer\n",
    "    \n",
    "\n",
    "    for ith_epoch in range(n_epochs):\n",
    "        \n",
    "        # Progress bar - so we get a progress bar using the Python TQDM lib\n",
    "        # It's just a wrapper for our range\n",
    "        batch_progress = tqdm(range(batch_count), desc='Epoch {}/{} with validation accuracy {}'.\n",
    "                              format(ith_epoch+1, n_epochs,validation_accuracy), unit='batches')\n",
    "        \n",
    "        # The training cycle\n",
    "        for ith_batch in batch_progress:\n",
    "            # Get a batch of training features and labels\n",
    "            batch_start = ith_batch*batch_size # our pointer (index) into the entire feature set\n",
    "            batch_features = train_features[batch_start:batch_start + batch_size]\n",
    "            batch_labels = train_labels[batch_start:batch_start + batch_size]\n",
    "\n",
    "            # Run optimizer and get loss for batch_size of features\n",
    "            _, l = session.run(\n",
    "                [optimizer, loss],\n",
    "                feed_dict={input_shape: batch_features, labels: batch_labels})\n",
    "\n",
    "            # Log accuracy every log_batch_step batches - no need to calculate each loop\n",
    "            # But this has nothing to do with the training, just the monitoring of performance\n",
    "            if not ith_batch % batch_logging_sizes:\n",
    "                # Calculate Training and Validation accuracy\n",
    "                training_accuracy = session.run(accuracy, feed_dict=train_feed_dict)\n",
    "                validation_accuracy = session.run(accuracy, feed_dict=valid_feed_dict)\n",
    "\n",
    "                # Log batches so that we can plot them\n",
    "                previous_batch = batches[-1] if batches else 0\n",
    "                batches.append(batch_logging_sizes + previous_batch)\n",
    "                loss_batch.append(l)\n",
    "                train_acc_batch.append(training_accuracy)\n",
    "                valid_acc_batch.append(validation_accuracy)\n",
    "\n",
    "        # Check accuracy against Validation data\n",
    "        validation_accuracy = session.run(accuracy, feed_dict=valid_feed_dict)\n",
    "\n",
    "loss_plot = plt.subplot(211)\n",
    "loss_plot.set_title('Loss')\n",
    "loss_plot.plot(batches, loss_batch, 'b')\n",
    "loss_plot.set_xlim([batches[0], batches[-1]])\n",
    "acc_plot = plt.subplot(212)\n",
    "acc_plot.set_title('Accuracy')\n",
    "acc_plot.plot(batches, train_acc_batch, 'r', label='Training Accuracy')\n",
    "acc_plot.plot(batches, valid_acc_batch, 'x', label='Validation Accuracy')\n",
    "acc_plot.set_ylim([0, 1.0])\n",
    "acc_plot.set_xlim([batches[0], batches[-1]])\n",
    "acc_plot.legend(loc=4)\n",
    "plt.tight_layout()\n",
    "plt.show()"
   ]
  },
  {
   "cell_type": "markdown",
   "metadata": {},
   "source": [
    "We can see that it converged fairly quickly on a highly accurate model that is able to predict shapes all of the time. This is to be expected given the highly dissimilar (orthogonal) nature of the training data and the amount of it. We contrived this example to make things easy (and mostly instructive) for ourselves as an entry point into the world of TF.\n",
    "\n",
    "# Test Accuracy\n",
    "\n",
    "In our original dataset, we generated an independent set of shapes that the network hasn't seen before during training. (Well, given the way we generate shapes, it is highly likely that the network **has** seen these shapes, but let's ignore that for this lesson.)\n",
    "\n",
    "Now we re-run the network, but with the test data and don't bother calculating `loss` because we are no longer optimizing, but rather presenting data to see what the network predicts."
   ]
  },
  {
   "cell_type": "code",
   "execution_count": 27,
   "metadata": {},
   "outputs": [
    {
     "name": "stderr",
     "output_type": "stream",
     "text": [
      "Epoch 1/4: 100%|██████████| 743/743 [00:00<00:00, 1723.27batches/s]\n",
      "Epoch 2/4: 100%|██████████| 743/743 [00:00<00:00, 1785.34batches/s]\n",
      "Epoch 3/4: 100%|██████████| 743/743 [00:00<00:00, 1663.48batches/s]\n",
      "Epoch 4/4: 100%|██████████| 743/743 [00:00<00:00, 1743.27batches/s]"
     ]
    },
    {
     "name": "stdout",
     "output_type": "stream",
     "text": [
      "Test Accuracy:1.0\n"
     ]
    },
    {
     "name": "stderr",
     "output_type": "stream",
     "text": [
      "\n"
     ]
    }
   ],
   "source": [
    "# The accuracy measured against the test set\n",
    "test_accuracy = 0.0\n",
    "\n",
    "with tf.Session() as session:\n",
    "    \n",
    "    session.run(init)\n",
    "    batch_count = int(math.ceil(len(train_features)/batch_size))\n",
    "\n",
    "    for ith_epoch in range(n_epochs):\n",
    "        \n",
    "        # Progress bar\n",
    "        batches_prog = tqdm(range(batch_count), desc='Epoch {}/{}'.format(ith_epoch+1, n_epochs), unit='batches')\n",
    "        \n",
    "        # The training cycle\n",
    "        for ith_batch in batches_prog:\n",
    "            # Get a batch of training features and labels\n",
    "            batch_start = ith_batch*batch_size\n",
    "            batch_features = train_features[batch_start:batch_start + batch_size]\n",
    "            batch_labels = train_labels[batch_start:batch_start + batch_size]\n",
    "\n",
    "            # Run optimizer\n",
    "            _ = session.run(optimizer, feed_dict={input_shape: batch_features, labels: batch_labels})\n",
    "\n",
    "        # Check accuracy against Test data\n",
    "        test_accuracy = session.run(accuracy, feed_dict=test_feed_dict)\n",
    "\n",
    "print('Test Accuracy:{}'.format(test_accuracy))"
   ]
  },
  {
   "cell_type": "code",
   "execution_count": null,
   "metadata": {},
   "outputs": [],
   "source": []
  }
 ],
 "metadata": {
  "kernelspec": {
   "display_name": "Python [conda env:tensorflow]",
   "language": "python",
   "name": "conda-env-tensorflow-py"
  },
  "language_info": {
   "codemirror_mode": {
    "name": "ipython",
    "version": 3
   },
   "file_extension": ".py",
   "mimetype": "text/x-python",
   "name": "python",
   "nbconvert_exporter": "python",
   "pygments_lexer": "ipython3",
   "version": "3.5.4"
  }
 },
 "nbformat": 4,
 "nbformat_minor": 1
}
